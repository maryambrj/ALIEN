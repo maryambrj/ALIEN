{
 "cells": [
  {
   "cell_type": "markdown",
   "id": "113046ed",
   "metadata": {},
   "source": [
    "## Testing on Refind Data"
   ]
  },
  {
   "cell_type": "code",
   "execution_count": 1,
   "id": "b8ea77d8",
   "metadata": {},
   "outputs": [],
   "source": [
    "import os\n",
    "import random\n",
    "from dotenv import load_dotenv\n",
    "\n",
    "from typing import Annotated, List, Literal\n",
    "from typing_extensions import TypedDict\n",
    "from pydantic import BaseModel, Field, conlist\n",
    "\n",
    "import operator\n",
    "\n",
    "from langgraph.graph import StateGraph, START, END\n",
    "from langgraph.types import interrupt, Command\n",
    "from langgraph.graph.message import add_messages\n",
    "\n",
    "from langgraph.checkpoint.memory import MemorySaver\n",
    "\n",
    "from langchain_openai import ChatOpenAI\n",
    "\n",
    "\n",
    "from IPython.display import display, Markdown, Image\n",
    "\n",
    "from langchain_community.document_loaders import RSSFeedLoader\n",
    "\n",
    "from langchain.chat_models import init_chat_model\n",
    "from langchain_core.messages import (\n",
    "    SystemMessage,\n",
    "    HumanMessage,\n",
    ")\n",
    "\n",
    "import pandas as pd\n",
    "\n",
    "from tqdm.notebook import tqdm"
   ]
  },
  {
   "cell_type": "code",
   "execution_count": 2,
   "id": "08fa35ed",
   "metadata": {},
   "outputs": [],
   "source": [
    "MODEL = \"google_genai:gemini-2.0-flash-001\"  # \"openai:gpt-4o-mini\""
   ]
  },
  {
   "cell_type": "code",
   "execution_count": 3,
   "id": "cc42b558",
   "metadata": {},
   "outputs": [
    {
     "data": {
      "text/plain": [
       "False"
      ]
     },
     "execution_count": 3,
     "metadata": {},
     "output_type": "execute_result"
    }
   ],
   "source": [
    "load_dotenv(\"../.env\")"
   ]
  },
  {
   "cell_type": "code",
   "execution_count": 4,
   "id": "f8b2bd91",
   "metadata": {},
   "outputs": [],
   "source": [
    "os.environ[\"LANGCHAIN_PROJECT\"] = \"AgentXSyntheticNShotGemini_Semeval_task8\"\n",
    "os.environ[\"LANGSMITH_ENDPOINT\"]=\"https://api.smith.langchain.com\""
   ]
  },
  {
   "cell_type": "code",
   "execution_count": 5,
   "id": "d04fc7c2",
   "metadata": {},
   "outputs": [
    {
     "data": {
      "text/html": [
       "<div>\n",
       "<style scoped>\n",
       "    .dataframe tbody tr th:only-of-type {\n",
       "        vertical-align: middle;\n",
       "    }\n",
       "\n",
       "    .dataframe tbody tr th {\n",
       "        vertical-align: top;\n",
       "    }\n",
       "\n",
       "    .dataframe thead th {\n",
       "        text-align: right;\n",
       "    }\n",
       "</style>\n",
       "<table border=\"1\" class=\"dataframe\">\n",
       "  <thead>\n",
       "    <tr style=\"text-align: right;\">\n",
       "      <th></th>\n",
       "      <th>sentence</th>\n",
       "      <th>relation</th>\n",
       "      <th>label</th>\n",
       "      <th>entity1</th>\n",
       "      <th>entity2</th>\n",
       "      <th>sentence_without_tags</th>\n",
       "      <th>split</th>\n",
       "    </tr>\n",
       "  </thead>\n",
       "  <tbody>\n",
       "    <tr>\n",
       "      <th>0</th>\n",
       "      <td>The most common &lt;e1&gt;audits&lt;/e1&gt; were about &lt;e2...</td>\n",
       "      <td>Message-Topic (e1, e2)</td>\n",
       "      <td>14</td>\n",
       "      <td>audits</td>\n",
       "      <td>waste</td>\n",
       "      <td>The most common audits were about waste and re...</td>\n",
       "      <td>test</td>\n",
       "    </tr>\n",
       "    <tr>\n",
       "      <th>1</th>\n",
       "      <td>The &lt;e1&gt;company&lt;/e1&gt; fabricates plastic &lt;e2&gt;ch...</td>\n",
       "      <td>Product-Producer (e2, e1)</td>\n",
       "      <td>17</td>\n",
       "      <td>company</td>\n",
       "      <td>chairs</td>\n",
       "      <td>The company fabricates plastic chairs.</td>\n",
       "      <td>test</td>\n",
       "    </tr>\n",
       "    <tr>\n",
       "      <th>2</th>\n",
       "      <td>The school &lt;e1&gt;master&lt;/e1&gt; teaches the lesson ...</td>\n",
       "      <td>Instrument-Agency (e2, e1)</td>\n",
       "      <td>11</td>\n",
       "      <td>master</td>\n",
       "      <td>stick</td>\n",
       "      <td>The school master teaches the lesson with a st...</td>\n",
       "      <td>test</td>\n",
       "    </tr>\n",
       "    <tr>\n",
       "      <th>3</th>\n",
       "      <td>The suspect dumped the dead &lt;e1&gt;body&lt;/e1&gt; into...</td>\n",
       "      <td>Entity-Destination (e1, e2)</td>\n",
       "      <td>6</td>\n",
       "      <td>body</td>\n",
       "      <td>reservoir</td>\n",
       "      <td>The suspect dumped the dead body into a local ...</td>\n",
       "      <td>test</td>\n",
       "    </tr>\n",
       "    <tr>\n",
       "      <th>4</th>\n",
       "      <td>Avian &lt;e1&gt;influenza&lt;/e1&gt; is an infectious dise...</td>\n",
       "      <td>Cause-Effect (e2, e1)</td>\n",
       "      <td>1</td>\n",
       "      <td>influenza</td>\n",
       "      <td>virus</td>\n",
       "      <td>Avian influenza is an infectious disease of bi...</td>\n",
       "      <td>test</td>\n",
       "    </tr>\n",
       "  </tbody>\n",
       "</table>\n",
       "</div>"
      ],
      "text/plain": [
       "                                            sentence  \\\n",
       "0  The most common <e1>audits</e1> were about <e2...   \n",
       "1  The <e1>company</e1> fabricates plastic <e2>ch...   \n",
       "2  The school <e1>master</e1> teaches the lesson ...   \n",
       "3  The suspect dumped the dead <e1>body</e1> into...   \n",
       "4  Avian <e1>influenza</e1> is an infectious dise...   \n",
       "\n",
       "                      relation  label    entity1    entity2  \\\n",
       "0       Message-Topic (e1, e2)     14     audits      waste   \n",
       "1    Product-Producer (e2, e1)     17    company     chairs   \n",
       "2   Instrument-Agency (e2, e1)     11     master      stick   \n",
       "3  Entity-Destination (e1, e2)      6       body  reservoir   \n",
       "4        Cause-Effect (e2, e1)      1  influenza      virus   \n",
       "\n",
       "                               sentence_without_tags split  \n",
       "0  The most common audits were about waste and re...  test  \n",
       "1             The company fabricates plastic chairs.  test  \n",
       "2  The school master teaches the lesson with a st...  test  \n",
       "3  The suspect dumped the dead body into a local ...  test  \n",
       "4  Avian influenza is an infectious disease of bi...  test  "
      ]
     },
     "execution_count": 5,
     "metadata": {},
     "output_type": "execute_result"
    }
   ],
   "source": [
    "df = pd.read_csv(\"./../../../projects/active_learning_project/data/semeval_2010_task8_data/csv_files/test.csv\")\n",
    "df.head()"
   ]
  },
  {
   "cell_type": "code",
   "execution_count": 6,
   "id": "77f146d9",
   "metadata": {},
   "outputs": [
    {
     "name": "stdout",
     "output_type": "stream",
     "text": [
      "['Message-Topic (e1, e2)', 'Product-Producer (e2, e1)', 'Instrument-Agency (e2, e1)', 'Entity-Destination (e1, e2)', 'Cause-Effect (e2, e1)', 'Component-Whole (e1, e2)', 'Product-Producer (e1, e2)', 'Member-Collection (e2, e1)', 'Other', 'Entity-Origin (e1, e2)', 'Content-Container (e1, e2)', 'Entity-Origin (e2, e1)', 'Cause-Effect (e1, e2)', 'Component-Whole (e2, e1)', 'Content-Container (e2, e1)', 'Instrument-Agency (e1, e2)', 'Message-Topic (e2, e1)', 'Member-Collection (e1, e2)', 'Entity-Destination (e2, e1)']\n"
     ]
    }
   ],
   "source": [
    "all_relations = df['relation'].unique().tolist()\n",
    "print(all_relations)"
   ]
  },
  {
   "cell_type": "code",
   "execution_count": null,
   "id": "50a36b6a",
   "metadata": {},
   "outputs": [],
   "source": [
    "# structured output Data Models\n",
    "class SelectedLabels(BaseModel):\n",
    "    labels: List[\"str\"]  # add something to limit number of selected labels, check later\n",
    "\n",
    "class GeneratedExample(BaseModel):\n",
    "    context: str\n",
    "    head_entity: str\n",
    "    tail_entity: str\n",
    "    label: Literal[\n",
    "        'Message-Topic (e1, e2)', 'Product-Producer (e2, e1)', 'Instrument-Agency (e2, e1)', 'Entity-Destination (e1, e2)', 'Cause-Effect (e2, e1)', 'Component-Whole (e1, e2)', 'Product-Producer (e1, e2)', 'Member-Collection (e2, e1)', 'Other', 'Entity-Origin (e1, e2)', 'Content-Container (e1, e2)', 'Entity-Origin (e2, e1)', 'Cause-Effect (e1, e2)', 'Component-Whole (e2, e1)', 'Content-Container (e2, e1)', 'Instrument-Agency (e1, e2)', 'Message-Topic (e2, e1)', 'Member-Collection (e1, e2)', 'Entity-Destination (e2, e1)'\n",
    "    ]\n",
    "\n",
    "class GeneratedExamples(BaseModel):\n",
    "    examples: List[GeneratedExample]\n",
    "\n",
    "class EvaluateRelationshipOutput(BaseModel):\n",
    "    output: Literal[\n",
    "        'Message-Topic (e1, e2)', 'Product-Producer (e2, e1)', 'Instrument-Agency (e2, e1)', 'Entity-Destination (e1, e2)', 'Cause-Effect (e2, e1)', 'Component-Whole (e1, e2)', 'Product-Producer (e1, e2)', 'Member-Collection (e2, e1)', 'Other', 'Entity-Origin (e1, e2)', 'Content-Container (e1, e2)', 'Entity-Origin (e2, e1)', 'Cause-Effect (e1, e2)', 'Component-Whole (e2, e1)', 'Content-Container (e2, e1)', 'Instrument-Agency (e1, e2)', 'Message-Topic (e2, e1)', 'Member-Collection (e1, e2)', 'Entity-Destination (e2, e1)'\n",
    "    ]"
   ]
  },
  {
   "cell_type": "code",
   "execution_count": 8,
   "id": "fae1f5f4",
   "metadata": {},
   "outputs": [],
   "source": [
    "# state for input\n",
    "class InputState(TypedDict):\n",
    "    context : str\n",
    "    entity_1 : str\n",
    "    entity_2 : str\n",
    "    list_of_labels : List[str]\n",
    "    selected_labels : SelectedLabels \n",
    "    negative_examples : GeneratedExamples\n",
    "    positive_examples : GeneratedExamples\n",
    "    # max_num_of_revisions : int\n",
    "    label : EvaluateRelationshipOutput"
   ]
  },
  {
   "cell_type": "code",
   "execution_count": 40,
   "id": "5c40e4fe",
   "metadata": {},
   "outputs": [],
   "source": [
    "label_direction_related_info = \"In labels (e1, e2) defines the direction of the relation between the entities.\""
   ]
  },
  {
   "cell_type": "code",
   "execution_count": 41,
   "id": "8710266c",
   "metadata": {},
   "outputs": [],
   "source": [
    "def select_helpful_labels_for_n_shot(state: InputState):\n",
    "    llm = init_chat_model(\n",
    "        model=MODEL,\n",
    "        temperature=0.2\n",
    "    ).with_structured_output(SelectedLabels)\n",
    "\n",
    "    out = llm.invoke(\n",
    "        [\n",
    "            SystemMessage(\n",
    "                content=f\"You are a helpful assistant. You will be given a text with entities and a list of labels. Select labels from the list of labels. Selected labels should be such that generated positive and negative examples using these labels will be useful in doing N Shot Classification. {label_direction_related_info} In short, the model will be able to get confused between these selected labels while answering. Provide the output in a JSON format.\"\n",
    "            ),\n",
    "            HumanMessage(\n",
    "                content=f\"Labels: {state['list_of_labels']}\\nContext: {state['context']}\\n Head Entity: {state['entity_1']}\\n Tail Entity: {state['entity_2']}\"\n",
    "            )\n",
    "        ]\n",
    "    )\n",
    "    return {\n",
    "        \"selected_labels\": out.labels\n",
    "    }\n",
    "\n",
    "def generate_positive_example(state: InputState):\n",
    "    \"\"\"Generate a positive example for the given text, entities and label.\"\"\"\n",
    "    positive_example_llm = init_chat_model(\n",
    "        model=MODEL,\n",
    "        temperature=0.4,\n",
    "    ).with_structured_output(GeneratedExamples)\n",
    "\n",
    "    out = positive_example_llm.invoke(\n",
    "        [\n",
    "            SystemMessage(\n",
    "                content=f\"You are a helpful assistant that generates examples for relationship classification task. You will be given a text with entities and a list of labels. Generate positive examples with context and entities similar to what is provided. Generate an example for each label. {label_direction_related_info} Provide the output in a JSON format.\"\n",
    "            ),\n",
    "            HumanMessage(\n",
    "                content=f\"Labels: {state['selected_labels']}\\nContext: {state['context']}\\n Entity 1: {state['entity_1']}\\n Entity 2: {state['entity_2']}\"\n",
    "            )\n",
    "        ]\n",
    "    )\n",
    "    \n",
    "    return {\n",
    "        \"positive_examples\": out.examples\n",
    "    }\n",
    "\n",
    "\n",
    "def generate_negative_example(state: InputState):\n",
    "    \"\"\"Generate a negative example for the given text, entities and label.\"\"\"\n",
    "    negative_example_llm = init_chat_model(\n",
    "        model=MODEL,\n",
    "        temperature=0.4,\n",
    "    ).with_structured_output(GeneratedExamples)\n",
    "\n",
    "    out = negative_example_llm.invoke(\n",
    "        [\n",
    "            SystemMessage(\n",
    "                content=f\"You are a evil assistant that generates examples for relationship classification task. You will be given a text with entities and a list of labels. Generate negative examples with context and entities similar to what is provided. Generate an example for each label. The generated examples should be such that they could fool a naive classifier. {label_direction_related_info} Provide the output in a JSON format.\"\n",
    "            ),\n",
    "            HumanMessage(\n",
    "                content=f\"Labels: {state['selected_labels']}\\nContext: {state['context']}\\n Entity 1: {state['entity_1']}\\n Entity 2: {state['entity_2']}\"\n",
    "            )\n",
    "        ]\n",
    "    )\n",
    "    return {\n",
    "        \"negative_examples\": out.examples\n",
    "    }"
   ]
  },
  {
   "cell_type": "code",
   "execution_count": 42,
   "id": "df7f2567",
   "metadata": {},
   "outputs": [],
   "source": [
    "def evaluate_relationship(state: InputState):\n",
    "    \"\"\"Evaluate the relationship between the head and tail entities in the text.\"\"\"\n",
    "    relationship_evaluator = init_chat_model(\n",
    "        model=MODEL,\n",
    "        temperature=0,\n",
    "    ).with_structured_output(EvaluateRelationshipOutput)\n",
    "    \n",
    "    out = relationship_evaluator.invoke(\n",
    "        [\n",
    "            SystemMessage(\n",
    "                content=f\"You are a helpful assistant that identifies the relationship between two entities given a context. You will be given a context, and a pair of entities and a list of possible labels. You will also be given positive examples and negative examples for each similar labels for better understanding. Provide the answer in a JSON format. The output should be the label that best describes the relationship between the entities in the context. {label_direction_related_info}\"\n",
    "            ),\n",
    "            HumanMessage(\n",
    "                content=f\"List of Labels: \\n {state['list_of_labels']} \\n\\n Positive Examples : \\n{state['positive_examples']}\\n\\n Negative Examples:\\n {state['negative_examples']}\\n\\n Context: {state['context']}\\n Entity 1: {state['entity_1']}\\n Entity 2: {state['entity_2']}\"\n",
    "            ),\n",
    "        ]\n",
    "    )\n",
    "    \n",
    "    return {\n",
    "        \"label\": out.output\n",
    "    }\n",
    "    \n",
    "\n",
    "# def to_revise_or_not(state: InputState):\n",
    "#     \"\"\"Decide whether to revise the generated examples or not.\"\"\"\n",
    "#     if state[\"max_num_of_revisions\"] <= 0:\n",
    "#         return \"revision_limit_reached\"\n",
    "    \n",
    "#     llm = init_chat_model(\n",
    "#         model=\"openai:gpt-4o-mini\",\n",
    "#         temperature=0,\n",
    "#     )\n",
    "\n",
    "#     out = llm.invoke(\n",
    "#         [\n",
    "#             SystemMessage(\n",
    "#                 content=\"You are a helpful assistant that decides whether to revise the generated examples or not. You will be given a context, head entity, tail entity, predicted label. You will also be given positive examples and negative examples that were used to get the predicted label. Decide whether the predicted label is correct or not. Provide the answer in a JSON format.\"\n",
    "#             ),\n",
    "#             HumanMessage(\n",
    "#                 content=f\"List of Labels: \\n {state['list_of_labels']} \\n\\n Positive Examples : \\n{state['positive_examples']}\\n\\n Negative Examples:\\n {state['negative_examples']}\\n\\n Context: {state['context']}\\n Head Entity: {state['head_entity']}\\n Tail Entity: {state['tail_entity']}\"\n",
    "#             ),\n",
    "#         ]\n",
    "#     )\n",
    "    \n",
    "#     return {\n",
    "#         \"max_num_of_revisions\": state[\"max_num_of_revisions\"] + 1\n",
    "#     }"
   ]
  },
  {
   "cell_type": "code",
   "execution_count": 43,
   "id": "c344c72d",
   "metadata": {},
   "outputs": [
    {
     "data": {
      "image/png": "[encoded data removed]",
      "text/plain": [
       "<IPython.core.display.Image object>"
      ]
     },
     "metadata": {},
     "output_type": "display_data"
    }
   ],
   "source": [
    "graph_builder = StateGraph(InputState)\n",
    "\n",
    "graph_builder.add_node(\"select_helpful_labels_for_n_shot\", select_helpful_labels_for_n_shot)\n",
    "graph_builder.add_node(\"generate_positive_example\", generate_positive_example)  \n",
    "graph_builder.add_node(\"generate_negative_example\", generate_negative_example)\n",
    "graph_builder.add_node(\"relationship_evaluator\", evaluate_relationship)\n",
    "\n",
    "graph_builder.add_edge(START, \"select_helpful_labels_for_n_shot\")\n",
    "graph_builder.add_edge(\"select_helpful_labels_for_n_shot\", \"generate_positive_example\")\n",
    "graph_builder.add_edge(\"select_helpful_labels_for_n_shot\", \"generate_negative_example\")\n",
    "\n",
    "graph_builder.add_edge(\n",
    "    [\"generate_positive_example\", \"generate_negative_example\"],\n",
    "    \"relationship_evaluator\",\n",
    ")\n",
    "graph_builder.add_edge(\"relationship_evaluator\", END)\n",
    "\n",
    "graph = graph_builder.compile()\n",
    "display(Image(graph.get_graph().draw_mermaid_png()))"
   ]
  },
  {
   "cell_type": "code",
   "execution_count": 44,
   "id": "fc5f093d",
   "metadata": {},
   "outputs": [
    {
     "data": {
      "text/plain": [
       "sentence                 Roadside <e1>attractions</e1> are frequently a...\n",
       "relation                                            Message-Topic (e2, e1)\n",
       "label                                                                   15\n",
       "entity1                                                        attractions\n",
       "entity2                                                         billboards\n",
       "sentence_without_tags    Roadside attractions are frequently advertised...\n",
       "split                                                                 test\n",
       "Name: 147, dtype: object"
      ]
     },
     "execution_count": 44,
     "metadata": {},
     "output_type": "execute_result"
    }
   ],
   "source": [
    "df.iloc[147]"
   ]
  },
  {
   "cell_type": "code",
   "execution_count": 45,
   "id": "d7574baa",
   "metadata": {},
   "outputs": [],
   "source": [
    "text = df.iloc[147]['sentence_without_tags']\n",
    "head_entity = df.iloc[147]['entity1']\n",
    "tail_entity = df.iloc[147][\"entity2\"]"
   ]
  },
  {
   "cell_type": "code",
   "execution_count": 49,
   "id": "7468fff2",
   "metadata": {},
   "outputs": [
    {
     "data": {
      "text/plain": [
       "('Roadside attractions are frequently advertised with billboards to attract tourists.',\n",
       " 'attractions',\n",
       " 'billboards')"
      ]
     },
     "execution_count": 49,
     "metadata": {},
     "output_type": "execute_result"
    }
   ],
   "source": [
    "text, head_entity, tail_entity"
   ]
  },
  {
   "cell_type": "code",
   "execution_count": 56,
   "id": "2ff6b528",
   "metadata": {},
   "outputs": [],
   "source": [
    "input_data = {\n",
    "    \"context\": text,\n",
    "    \"entity_1\": head_entity,\n",
    "    \"entity_2\": tail_entity,\n",
    "    \"list_of_labels\": all_relations,\n",
    "}\n",
    "\n",
    "result = graph.invoke(input_data)"
   ]
  },
  {
   "cell_type": "code",
   "execution_count": 57,
   "id": "11d83322",
   "metadata": {},
   "outputs": [
    {
     "data": {
      "text/plain": [
       "'Other'"
      ]
     },
     "execution_count": 57,
     "metadata": {},
     "output_type": "execute_result"
    }
   ],
   "source": [
    "result[\"label\"]"
   ]
  },
  {
   "cell_type": "code",
   "execution_count": 15,
   "id": "b214ee39",
   "metadata": {},
   "outputs": [
    {
     "data": {
      "application/vnd.jupyter.widget-view+json": {
       "model_id": "0217c291bc7a4a909e39b903508ea99d",
       "version_major": 2,
       "version_minor": 0
      },
      "text/plain": [
       "  0%|          | 0/2717 [00:00<?, ?it/s]"
      ]
     },
     "metadata": {},
     "output_type": "display_data"
    }
   ],
   "source": [
    "answers = []\n",
    "\n",
    "for _, row in tqdm(df.iterrows(), total=df.shape[0]):\n",
    "    text = row['sentence_without_tags']\n",
    "    head_entity = row['entity1']\n",
    "    tail_entity = row['entity2']\n",
    "    try : \n",
    "        input_data = {\n",
    "            \"context\": text,\n",
    "            \"head_entity\": head_entity,\n",
    "            \"tail_entity\": tail_entity,\n",
    "            \"list_of_labels\": all_relations,\n",
    "        }\n",
    "        \n",
    "        result = graph.invoke(input_data)\n",
    "        \n",
    "        answers.append(result[\"label\"])\n",
    "    except Exception as e:\n",
    "        answers.append(None)\n",
    "        continue\n",
    "    "
   ]
  },
  {
   "cell_type": "code",
   "execution_count": 58,
   "id": "77ab126b",
   "metadata": {},
   "outputs": [
    {
     "ename": "NameError",
     "evalue": "name 'answers' is not defined",
     "output_type": "error",
     "traceback": [
      "\u001b[31m---------------------------------------------------------------------------\u001b[39m",
      "\u001b[31mNameError\u001b[39m                                 Traceback (most recent call last)",
      "\u001b[36mCell\u001b[39m\u001b[36m \u001b[39m\u001b[32mIn[58]\u001b[39m\u001b[32m, line 1\u001b[39m\n\u001b[32m----> \u001b[39m\u001b[32m1\u001b[39m df[\u001b[33m\"\u001b[39m\u001b[33mpredicted_label\u001b[39m\u001b[33m\"\u001b[39m] = \u001b[43manswers\u001b[49m\n",
      "\u001b[31mNameError\u001b[39m: name 'answers' is not defined"
     ]
    }
   ],
   "source": [
    "df[\"predicted_label\"] = answers"
   ]
  },
  {
   "cell_type": "code",
   "execution_count": 59,
   "id": "ae88f660",
   "metadata": {},
   "outputs": [
    {
     "data": {
      "text/plain": [
       "sentence                 0\n",
       "relation                 0\n",
       "label                    0\n",
       "entity1                  0\n",
       "entity2                  0\n",
       "sentence_without_tags    0\n",
       "split                    0\n",
       "dtype: int64"
      ]
     },
     "execution_count": 59,
     "metadata": {},
     "output_type": "execute_result"
    }
   ],
   "source": [
    "df.isnull().sum()"
   ]
  },
  {
   "cell_type": "code",
   "execution_count": 30,
   "id": "4046ba8a",
   "metadata": {},
   "outputs": [
    {
     "data": {
      "text/plain": [
       "(2716, 8)"
      ]
     },
     "execution_count": 30,
     "metadata": {},
     "output_type": "execute_result"
    }
   ],
   "source": [
    "df = df[~df.predicted_label.isnull()]\n",
    "df.shape"
   ]
  },
  {
   "cell_type": "code",
   "execution_count": null,
   "id": "0a1be749",
   "metadata": {},
   "outputs": [],
   "source": []
  },
  {
   "cell_type": "code",
   "execution_count": null,
   "id": "d7135289",
   "metadata": {},
   "outputs": [],
   "source": []
  },
  {
   "cell_type": "code",
   "execution_count": null,
   "id": "63e2721b",
   "metadata": {},
   "outputs": [],
   "source": []
  },
  {
   "cell_type": "code",
   "execution_count": 32,
   "id": "525e45c2",
   "metadata": {},
   "outputs": [
    {
     "name": "stdout",
     "output_type": "stream",
     "text": [
      "                             precision    recall  f1-score   support\n",
      "\n",
      "     Message-Topic (e1, e2)       0.39      0.80      0.52       210\n",
      "  Product-Producer (e2, e1)       0.16      0.04      0.07       122\n",
      " Instrument-Agency (e2, e1)       0.71      0.22      0.34       134\n",
      "Entity-Destination (e1, e2)       0.71      0.27      0.39       291\n",
      "      Cause-Effect (e2, e1)       0.82      0.24      0.37       194\n",
      "   Component-Whole (e1, e2)       0.33      0.36      0.35       162\n",
      "  Product-Producer (e1, e2)       0.19      0.13      0.15       108\n",
      " Member-Collection (e2, e1)       0.33      0.02      0.05       201\n",
      "                      Other       0.28      0.58      0.38       454\n",
      "     Entity-Origin (e1, e2)       0.73      0.15      0.25       211\n",
      " Content-Container (e1, e2)       0.46      0.73      0.56       153\n",
      "     Entity-Origin (e2, e1)       0.00      0.00      0.00        47\n",
      "      Cause-Effect (e1, e2)       0.47      0.84      0.60       134\n",
      "   Component-Whole (e2, e1)       0.17      0.08      0.11       150\n",
      " Content-Container (e2, e1)       0.10      0.10      0.10        39\n",
      " Instrument-Agency (e1, e2)       0.08      0.18      0.11        22\n",
      "     Message-Topic (e2, e1)       0.50      0.04      0.07        51\n",
      " Member-Collection (e1, e2)       0.13      0.53      0.21        32\n",
      "Entity-Destination (e2, e1)       0.00      0.00      0.00         1\n",
      "\n",
      "                   accuracy                           0.35      2716\n",
      "                  macro avg       0.35      0.28      0.24      2716\n",
      "               weighted avg       0.43      0.35      0.31      2716\n",
      "\n"
     ]
    }
   ],
   "source": [
    "from sklearn.metrics import classification_report\n",
    "\n",
    "# Assuming your predictions and ground truths are stored in lists:\n",
    "# predictions = [...]\n",
    "# ground_truths = [...]\n",
    "\n",
    "print(classification_report(df.relation, df.predicted_label, labels=all_relations))"
   ]
  },
  {
   "cell_type": "code",
   "execution_count": null,
   "id": "d940ff9d",
   "metadata": {},
   "outputs": [],
   "source": []
  }
 ],
 "metadata": {
  "kernelspec": {
   "display_name": "ai_agents_experiments",
   "language": "python",
   "name": "python3"
  },
  "language_info": {
   "codemirror_mode": {
    "name": "ipython",
    "version": 3
   },
   "file_extension": ".py",
   "mimetype": "text/x-python",
   "name": "python",
   "nbconvert_exporter": "python",
   "pygments_lexer": "ipython3",
   "version": "3.13.3"
  }
 },
 "nbformat": 4,
 "nbformat_minor": 5
}
