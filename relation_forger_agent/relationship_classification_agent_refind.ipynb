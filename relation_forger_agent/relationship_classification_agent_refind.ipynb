{
 "cells": [
  {
   "cell_type": "markdown",
   "id": "113046ed",
   "metadata": {},
   "source": [
    "## Testing on Refind Data"
   ]
  },
  {
   "cell_type": "code",
   "execution_count": 1,
   "id": "b8ea77d8",
   "metadata": {},
   "outputs": [],
   "source": [
    "import time\n",
    "from dotenv import load_dotenv\n",
    "\n",
    "from typing import List, Literal\n",
    "from typing_extensions import TypedDict\n",
    "from pydantic import BaseModel, Field\n",
    "from langgraph.graph import StateGraph, START, END\n",
    "\n",
    "from IPython.display import display, Markdown, Image\n",
    "\n",
    "\n",
    "from langchain.chat_models import init_chat_model\n",
    "from langchain_core.messages import (\n",
    "    SystemMessage,\n",
    "    HumanMessage,\n",
    ")\n",
    "\n",
    "import pandas as pd\n",
    "\n",
    "from tqdm.notebook import tqdm"
   ]
  },
  {
   "cell_type": "code",
   "execution_count": 2,
   "id": "08fa35ed",
   "metadata": {},
   "outputs": [],
   "source": [
    "MODEL = \"google_genai:gemini-2.5-flash-preview-05-20\"  # \n",
    "MODEL_2 = \"openai:gpt-4o\"\n",
    "MODEL_3 = \"google_genai:gemini-2.0-flash-001\""
   ]
  },
  {
   "cell_type": "code",
   "execution_count": 3,
   "id": "33e7fa51",
   "metadata": {},
   "outputs": [],
   "source": [
    "model_dict = {\n",
    "    \"example_generator_model\": MODEL_3,\n",
    "    \"classifier_model\": MODEL_2\n",
    "}"
   ]
  },
  {
   "cell_type": "code",
   "execution_count": 4,
   "id": "cc42b558",
   "metadata": {},
   "outputs": [
    {
     "data": {
      "text/plain": [
       "True"
      ]
     },
     "execution_count": 4,
     "metadata": {},
     "output_type": "execute_result"
    }
   ],
   "source": [
    "load_dotenv(\"../.env\")"
   ]
  },
  {
   "cell_type": "code",
   "execution_count": 5,
   "id": "f8b2bd91",
   "metadata": {},
   "outputs": [],
   "source": [
    "# os.environ[\"LANGCHAIN_PROJECT\"] = \"AgentXSyntheticNShotGemini_Semeval_task8\"\n",
    "# os.environ[\"LANGSMITH_ENDPOINT\"]=\"https://api.smith.langchain.com\""
   ]
  },
  {
   "cell_type": "code",
   "execution_count": null,
   "id": "d04fc7c2",
   "metadata": {},
   "outputs": [
    {
     "name": "stdout",
     "output_type": "stream",
     "text": [
      "(708, 5)\n"
     ]
    },
    {
     "data": {
      "text/html": [
       "<div>\n",
       "<style scoped>\n",
       "    .dataframe tbody tr th:only-of-type {\n",
       "        vertical-align: middle;\n",
       "    }\n",
       "\n",
       "    .dataframe tbody tr th {\n",
       "        vertical-align: top;\n",
       "    }\n",
       "\n",
       "    .dataframe thead th {\n",
       "        text-align: right;\n",
       "    }\n",
       "</style>\n",
       "<table border=\"1\" class=\"dataframe\">\n",
       "  <thead>\n",
       "    <tr style=\"text-align: right;\">\n",
       "      <th></th>\n",
       "      <th>relation</th>\n",
       "      <th>invert_relation</th>\n",
       "      <th>e1_name</th>\n",
       "      <th>e2_name</th>\n",
       "      <th>context</th>\n",
       "    </tr>\n",
       "  </thead>\n",
       "  <tbody>\n",
       "    <tr>\n",
       "      <th>0</th>\n",
       "      <td>undefined</td>\n",
       "      <td>0</td>\n",
       "      <td>Winnie, Inc.</td>\n",
       "      <td>Android</td>\n",
       "      <td>The Winnie iPhone app was launched in June 201...</td>\n",
       "    </tr>\n",
       "    <tr>\n",
       "      <th>1</th>\n",
       "      <td>product_or_service_of</td>\n",
       "      <td>1</td>\n",
       "      <td>Marker International</td>\n",
       "      <td>Duplex</td>\n",
       "      <td>Hannes Marker felt he could improve on the con...</td>\n",
       "    </tr>\n",
       "    <tr>\n",
       "      <th>2</th>\n",
       "      <td>shareholder_of</td>\n",
       "      <td>1</td>\n",
       "      <td>Stone &amp; Wood Brewing Co.</td>\n",
       "      <td>Lion</td>\n",
       "      <td>In 2012 Cook , Rogers and Jurisich bought back...</td>\n",
       "    </tr>\n",
       "    <tr>\n",
       "      <th>3</th>\n",
       "      <td>collaboration</td>\n",
       "      <td>0</td>\n",
       "      <td>Bell Canada</td>\n",
       "      <td>Cellport Systems, Inc.</td>\n",
       "      <td>In 1994 a consortium of six cellular carriers ...</td>\n",
       "    </tr>\n",
       "    <tr>\n",
       "      <th>4</th>\n",
       "      <td>subsidiary_of</td>\n",
       "      <td>1</td>\n",
       "      <td>Global Electronic Trading Company</td>\n",
       "      <td>GETCO</td>\n",
       "      <td>The firm 's primary business is electronic mar...</td>\n",
       "    </tr>\n",
       "  </tbody>\n",
       "</table>\n",
       "</div>"
      ],
      "text/plain": [
       "                relation  invert_relation                            e1_name  \\\n",
       "0              undefined                0                       Winnie, Inc.   \n",
       "1  product_or_service_of                1               Marker International   \n",
       "2         shareholder_of                1           Stone & Wood Brewing Co.   \n",
       "3          collaboration                0                        Bell Canada   \n",
       "4          subsidiary_of                1  Global Electronic Trading Company   \n",
       "\n",
       "                  e2_name                                            context  \n",
       "0                 Android  The Winnie iPhone app was launched in June 201...  \n",
       "1                  Duplex  Hannes Marker felt he could improve on the con...  \n",
       "2                    Lion  In 2012 Cook , Rogers and Jurisich bought back...  \n",
       "3  Cellport Systems, Inc.  In 1994 a consortium of six cellular carriers ...  \n",
       "4                   GETCO  The firm 's primary business is electronic mar...  "
      ]
     },
     "execution_count": 6,
     "metadata": {},
     "output_type": "execute_result"
    }
   ],
   "source": [
    "df = pd.read_csv(\"../datasets/core_data/test_core.csv\")\n",
    "print(df.shape)\n",
    "df.head()"
   ]
  },
  {
   "cell_type": "code",
   "execution_count": 21,
   "id": "77f146d9",
   "metadata": {},
   "outputs": [
    {
     "name": "stdout",
     "output_type": "stream",
     "text": [
      "['no_relation', 'agreement_with', 'shares_of', 'acquired_by', 'subsidiary_of', 'attended', 'employee_of', 'member_of', 'title', 'formed_in', 'headquartered_in', 'operations_in', 'revenue_of', 'profit_of', 'loss_of', 'cost_of', 'formed_on', 'acquired_on', 'founder_of']\n"
     ]
    }
   ],
   "source": [
    "all_relations = df['relation'].unique().tolist()\n",
    "print(all_relations)"
   ]
  },
  {
   "cell_type": "code",
   "execution_count": 22,
   "id": "50a36b6a",
   "metadata": {},
   "outputs": [],
   "source": [
    "# structured output Data Models\n",
    "class SelectedLabels(BaseModel):\n",
    "    labels: List[\"str\"]  # add something to limit number of selected labels, check later\n",
    "\n",
    "class GeneratedPositiveExample(BaseModel):\n",
    "    context: str\n",
    "    entity_1: str\n",
    "    entity_2: str\n",
    "    predicted_label: Literal[*all_relations]\n",
    "    explanation: str\n",
    "\n",
    "class GeneratedPositiveExamples(BaseModel):\n",
    "    examples: List[GeneratedPositiveExample]\n",
    "\n",
    "class GeneratedNegativeExample(BaseModel):\n",
    "    context: str\n",
    "    entity_1: str\n",
    "    entity_2: str\n",
    "    predicted_label: str = Field(description=\"Incorrectly Predicted label\")\n",
    "    explanation : str = Field(description=\"Explanation why predicted label is not correct\")\n",
    "    correct_label : str = Field(description=\"Correct label\")\n",
    "\n",
    "class GeneratedNegativeExamples(BaseModel):\n",
    "    examples: List[GeneratedNegativeExample]\n",
    "\n",
    "class EvaluateRelationshipOutput(BaseModel):\n",
    "    output: Literal[*all_relations]\n",
    "    explanation: str = Field(default=\"Explanation for choosing the label\")"
   ]
  },
  {
   "cell_type": "code",
   "execution_count": 8,
   "id": "fae1f5f4",
   "metadata": {},
   "outputs": [],
   "source": [
    "# state for input\n",
    "class InputState(TypedDict):\n",
    "    context : str\n",
    "    entity_1 : str\n",
    "    entity_2 : str\n",
    "    list_of_labels : List[str]\n",
    "    selected_labels : SelectedLabels \n",
    "    negative_examples : List\n",
    "    positive_examples : List\n",
    "    # max_num_of_revisions : int\n",
    "    label : str\n",
    "    explanation : str"
   ]
  },
  {
   "cell_type": "code",
   "execution_count": 9,
   "id": "5c40e4fe",
   "metadata": {},
   "outputs": [],
   "source": [
    "label_direction_related_info = \"Consider Entity 1 to be the head entity and Entity 2 to be the tail entity. \""
   ]
  },
  {
   "cell_type": "code",
   "execution_count": null,
   "id": "8710266c",
   "metadata": {},
   "outputs": [],
   "source": [
    "def select_helpful_labels_for_n_shot(state: InputState):\n",
    "    llm = init_chat_model(\n",
    "        model=model_dict[\"classifier_model\"],\n",
    "        temperature=0.2\n",
    "    ).with_structured_output(SelectedLabels)\n",
    "\n",
    "    out = llm.invoke(\n",
    "        [\n",
    "            SystemMessage(\n",
    "                content=f\"You are a helpful assistant. You will be given a text with entities and a list of labels. Select labels from the list of labels. Selected labels should be such that generated positive and negative examples using these labels will be useful in doing N Shot Classification. {label_direction_related_info} In short, the model will be able to get confused between these selected labels while answering. Provide the output in a JSON format.\"\n",
    "            ),\n",
    "            HumanMessage(\n",
    "                content=f\"Labels: {state['list_of_labels']}\\nContext: {state['context']}\\n Entity 1: {state['entity_1']}\\n Entity 2: {state['entity_2']}\"\n",
    "            )\n",
    "        ]\n",
    "    )\n",
    "    return {\n",
    "        \"selected_labels\": out.labels\n",
    "    }\n",
    "\n",
    "def generate_positive_example(state: InputState):\n",
    "    \"\"\"Generate a positive example for the given text, entities and label.\"\"\"\n",
    "    positive_example_llm = init_chat_model(\n",
    "        model=model_dict[\"example_generator_model\"],\n",
    "        temperature=0.4,\n",
    "    ).with_structured_output(GeneratedPositiveExamples)\n",
    "\n",
    "    out = positive_example_llm.invoke(\n",
    "        [\n",
    "            SystemMessage(\n",
    "                content=f\"You are a helpful assistant that generates examples for relationship classification task. You will be given a text with entities and a list of labels. Generate distinct helpful and informative positive examples with similar context and entities. Do not use exact context or entities in generated examples. Generate an example for each label. {label_direction_related_info} Provide the output in a JSON format.\"\n",
    "            ),\n",
    "            HumanMessage(\n",
    "                content=f\"Labels: {state['selected_labels']}\\nContext: {state['context']}\\n Entity 1: {state['entity_1']}\\n Entity 2: {state['entity_2']}\"\n",
    "            )\n",
    "        ]\n",
    "    )\n",
    "    out = out.model_dump()\n",
    "    return {\n",
    "        \"positive_examples\": out[\"examples\"]\n",
    "    }\n",
    "\n",
    "\n",
    "def generate_negative_example(state: InputState):\n",
    "    \"\"\"Generate a negative example for the given text, entities and label.\"\"\"\n",
    "    negative_example_llm = init_chat_model(\n",
    "        model=model_dict[\"example_generator_model\"],\n",
    "        temperature=0.4,\n",
    "    ).with_structured_output(GeneratedNegativeExamples)\n",
    "\n",
    "    out = negative_example_llm.invoke(\n",
    "        [\n",
    "            SystemMessage(\n",
    "                content=f\"You are a evil assistant that generates examples for relationship classification task. You will be given a text with entities and a list of labels. Generate distinct helful and informative negative examples with similar context and entities. Do not use the exact context or entities in generated examples. Generate an example for each label. The generated examples should be such that they could fool a naive classifier. {label_direction_related_info} Provide the output in a JSON format.\"\n",
    "            ),\n",
    "            HumanMessage(\n",
    "                content=f\"Labels: {state['selected_labels']}\\nContext: {state['context']}\\n Entity 1: {state['entity_1']}\\n Entity 2: {state['entity_2']}\"\n",
    "            )\n",
    "        ]\n",
    "    )\n",
    "    out = out.model_dump()\n",
    "    \n",
    "    return {\n",
    "        \"negative_examples\": out[\"examples\"]\n",
    "    }"
   ]
  },
  {
   "cell_type": "code",
   "execution_count": 23,
   "id": "df7f2567",
   "metadata": {},
   "outputs": [],
   "source": [
    "def format_positive_examples(positive_examples):\n",
    "        prompt = \"Positive Examples:\\n\"\n",
    "        for i, ex in enumerate(positive_examples, 1):\n",
    "            prompt += (\n",
    "                f\"Example {i}:\\n\"\n",
    "                f\"  Context: {ex['context']}\\n\"\n",
    "                f\"  Entity 1: {ex['entity_1']}\\n\"\n",
    "                f\"  Entity 2: {ex['entity_2']}\\n\"\n",
    "                f\"  Predicted Label: {ex['predicted_label']}\\n\"\n",
    "                f\"  Explanation: {ex['explanation']}\\n\\n\"\n",
    "            )\n",
    "        return prompt\n",
    "\n",
    "def format_negative_examples(negative_examples):\n",
    "    prompt = \"Negative Examples:\\n\"\n",
    "    for i, ex in enumerate(negative_examples, 1):\n",
    "        prompt += (\n",
    "            f\"Example {i}:\\n\"\n",
    "            f\"  Context: {ex['context']}\\n\"\n",
    "            f\"  Entity 1: {ex['entity_1']}\\n\"\n",
    "            f\"  Entity 2: {ex['entity_2']}\\n\"\n",
    "            f\"  Predicted Label: {ex['predicted_label']}\\n\"\n",
    "            f\"  Explanation: {ex['explanation']}\\n\"\n",
    "            f\" Correct Label: {ex['correct_label']}\\n\\n\"\n",
    "        )\n",
    "    return prompt\n",
    "\n",
    "\n",
    "def evaluate_relationship(state: InputState):\n",
    "    \"\"\"Evaluate the relationship between the head and tail entities in the text.\"\"\"\n",
    "    relationship_evaluator = init_chat_model(\n",
    "        model=model_dict[\"classifier_model\"],\n",
    "        temperature=0,\n",
    "    ).with_structured_output(EvaluateRelationshipOutput)\n",
    "    \n",
    "    postive_examples_string = format_positive_examples(state['positive_examples'])\n",
    "    negative_examples_string = format_negative_examples(state['negative_examples'])\n",
    "    \n",
    "    out = relationship_evaluator.invoke(\n",
    "        [\n",
    "            SystemMessage(\n",
    "                content=f\"You are a helpful assistant that identifies the relationship between two entities given a context. You will be given a context, and a pair of entities and a list of possible labels. You will also be given positive examples and negative examples for each similar labels for better understanding. Provide the answer in a JSON format. The output should be the label that best describes the relationship between the entities in the context. {label_direction_related_info}\"\n",
    "            ),\n",
    "            HumanMessage(\n",
    "                content=f\"List of Labels: \\n {state['list_of_labels']} \\n\\n{postive_examples_string} {negative_examples_string} Context: {state['context']}\\n Entity 1: {state['entity_1']}\\n Entity 2: {state['entity_2']}\"\n",
    "            ),\n",
    "        ]\n",
    "    )\n",
    "    \n",
    "    return {\n",
    "        \"label\": out.output,\n",
    "        \"explanation\": out.explanation\n",
    "    }\n",
    "\n",
    "\n",
    "# def to_revise_or_not(state: InputState):\n",
    "#     \"\"\"Decide whether to revise the generated examples or not.\"\"\"\n",
    "#     if state[\"max_num_of_revisions\"] <= 0:\n",
    "#         return \"revision_limit_reached\"\n",
    "    \n",
    "#     llm = init_chat_model(\n",
    "#         model=\"openai:gpt-4o-mini\",\n",
    "#         temperature=0,\n",
    "#     )\n",
    "\n",
    "#     out = llm.invoke(\n",
    "#         [\n",
    "#             SystemMessage(\n",
    "#                 content=\"You are a helpful assistant that decides whether to revise the generated examples or not. You will be given a context, head entity, tail entity, predicted label. You will also be given positive examples and negative examples that were used to get the predicted label. Decide whether the predicted label is correct or not. Provide the answer in a JSON format.\"\n",
    "#             ),\n",
    "#             HumanMessage(\n",
    "#                 content=f\"List of Labels: \\n {state['list_of_labels']} \\n\\n Positive Examples : \\n{state['positive_examples']}\\n\\n Negative Examples:\\n {state['negative_examples']}\\n\\n Context: {state['context']}\\n Head Entity: {state['head_entity']}\\n Tail Entity: {state['tail_entity']}\"\n",
    "#             ),\n",
    "#         ]\n",
    "#     )\n",
    "    \n",
    "#     return {\n",
    "#         \"max_num_of_revisions\": state[\"max_num_of_revisions\"] + 1\n",
    "#     }"
   ]
  },
  {
   "cell_type": "code",
   "execution_count": 24,
   "id": "c344c72d",
   "metadata": {},
   "outputs": [
    {
     "data": {
      "image/png": "[encoded data removed]",
      "text/plain": [
       "<IPython.core.display.Image object>"
      ]
     },
     "metadata": {},
     "output_type": "display_data"
    }
   ],
   "source": [
    "graph_builder = StateGraph(InputState)\n",
    "\n",
    "graph_builder.add_node(\"select_helpful_labels_for_n_shot\", select_helpful_labels_for_n_shot)\n",
    "graph_builder.add_node(\"generate_positive_example\", generate_positive_example)  \n",
    "graph_builder.add_node(\"generate_negative_example\", generate_negative_example)\n",
    "graph_builder.add_node(\"relationship_evaluator\", evaluate_relationship)\n",
    "\n",
    "graph_builder.add_edge(START, \"select_helpful_labels_for_n_shot\")\n",
    "graph_builder.add_edge(\"select_helpful_labels_for_n_shot\", \"generate_positive_example\")\n",
    "graph_builder.add_edge(\"select_helpful_labels_for_n_shot\", \"generate_negative_example\")\n",
    "\n",
    "graph_builder.add_edge(\n",
    "    [\"generate_positive_example\", \"generate_negative_example\"],\n",
    "    \"relationship_evaluator\",\n",
    ")\n",
    "graph_builder.add_edge(\"relationship_evaluator\", END)\n",
    "\n",
    "graph = graph_builder.compile()\n",
    "display(Image(graph.get_graph().draw_mermaid_png()))"
   ]
  },
  {
   "cell_type": "code",
   "execution_count": 25,
   "id": "14f8e12b",
   "metadata": {},
   "outputs": [
    {
     "name": "stdout",
     "output_type": "stream",
     "text": [
      "CPU times: user 679 ms, sys: 201 ms, total: 880 ms\n",
      "Wall time: 26.7 s\n"
     ]
    },
    {
     "data": {
      "text/plain": [
       "'no_relation'"
      ]
     },
     "execution_count": 25,
     "metadata": {},
     "output_type": "execute_result"
    }
   ],
   "source": [
    "%%time\n",
    "input_data = {\n",
    "    \"context\": df.iloc[1]['sentence'],\n",
    "    \"entity_1\":df.iloc[1]['head_entity_text'],\n",
    "    \"entity_2\": df.iloc[1]['tail_entity_text'],\n",
    "    \"list_of_labels\": all_relations,\n",
    "}\n",
    "result = graph.invoke(input_data)\n",
    "result[\"label\"]"
   ]
  },
  {
   "cell_type": "code",
   "execution_count": 14,
   "id": "b214ee39",
   "metadata": {},
   "outputs": [],
   "source": [
    "answers = {}"
   ]
  },
  {
   "cell_type": "code",
   "execution_count": null,
   "id": "69bbe4b5",
   "metadata": {},
   "outputs": [
    {
     "data": {
      "application/vnd.jupyter.widget-view+json": {
       "model_id": "0aa1448b636c4e70bcedcf8ba7a29421",
       "version_major": 2,
       "version_minor": 0
      },
      "text/plain": [
       "  0%|          | 0/4221 [00:00<?, ?it/s]"
      ]
     },
     "metadata": {},
     "output_type": "display_data"
    }
   ],
   "source": [
    "%%time\n",
    "for row_id, row in tqdm(df.iterrows(), total=df.shape[0]):\n",
    "    if row_id not in answers:\n",
    "        text = row['sentence']\n",
    "        entity_1 = row['head_entity_text']\n",
    "        entity_2 = row['tail_entity_text']\n",
    "        try : \n",
    "            input_data = {\n",
    "                \"context\": text,\n",
    "                \"entity_1\": entity_1,\n",
    "                \"entity_2\": entity_2,\n",
    "                \"list_of_labels\": all_relations,\n",
    "            }\n",
    "            \n",
    "            result = graph.invoke(input_data)\n",
    "            \n",
    "            answers[row_id] = result[\"label\"]\n",
    "            time.sleep(2)\n",
    "        except Exception as e:\n",
    "            print(f\"Error processing row {row_id}: {e}\")"
   ]
  },
  {
   "cell_type": "markdown",
   "id": "77ab126b",
   "metadata": {},
   "source": [
    "\n",
    "1. Name DynamicCOTGenAgent"
   ]
  },
  {
   "cell_type": "code",
   "execution_count": 22,
   "id": "53c5caf4",
   "metadata": {},
   "outputs": [
    {
     "data": {
      "text/plain": [
       "583"
      ]
     },
     "execution_count": 22,
     "metadata": {},
     "output_type": "execute_result"
    }
   ],
   "source": [
    "len(answers)"
   ]
  },
  {
   "cell_type": "code",
   "execution_count": 49,
   "id": "4046ba8a",
   "metadata": {},
   "outputs": [],
   "source": [
    "df['predicted_label'] = df.index.map(answers)"
   ]
  },
  {
   "cell_type": "code",
   "execution_count": 51,
   "id": "eccc43ba",
   "metadata": {},
   "outputs": [
    {
     "data": {
      "text/plain": [
       "head_entity_text    0\n",
       "tail_entity_text    0\n",
       "relation            0\n",
       "sentence            0\n",
       "predicted_label     1\n",
       "dtype: int64"
      ]
     },
     "execution_count": 51,
     "metadata": {},
     "output_type": "execute_result"
    }
   ],
   "source": [
    "df.isnull().sum()"
   ]
  },
  {
   "cell_type": "code",
   "execution_count": 52,
   "id": "6aee4d49",
   "metadata": {},
   "outputs": [],
   "source": [
    "df = df.dropna(subset=['predicted_label'])"
   ]
  },
  {
   "cell_type": "code",
   "execution_count": 54,
   "id": "525e45c2",
   "metadata": {},
   "outputs": [
    {
     "name": "stdout",
     "output_type": "stream",
     "text": [
      "                  precision    recall  f1-score   support\n",
      "\n",
      "     acquired_by       0.40      0.55      0.46        11\n",
      "     acquired_on       0.95      0.79      0.86        24\n",
      "  agreement_with       0.56      0.76      0.64        25\n",
      "        attended       1.00      0.57      0.73         7\n",
      "         cost_of       0.50      0.25      0.33         4\n",
      "     employee_of       0.54      0.56      0.55        25\n",
      "       formed_in       0.33      0.06      0.10        17\n",
      "       formed_on       0.92      0.88      0.90        25\n",
      "      founder_of       0.88      0.74      0.80        19\n",
      "headquartered_in       0.71      0.80      0.75        25\n",
      "         loss_of       0.96      0.92      0.94        25\n",
      "       member_of       0.43      0.12      0.19        25\n",
      "     no_relation       0.16      0.40      0.23        25\n",
      "   operations_in       0.63      0.48      0.55        25\n",
      "       profit_of       1.00      1.00      1.00         5\n",
      "      revenue_of       0.88      0.92      0.90        25\n",
      "       shares_of       0.53      0.32      0.40        25\n",
      "   subsidiary_of       0.77      0.83      0.80        24\n",
      "           title       0.73      0.88      0.80        25\n",
      "\n",
      "        accuracy                           0.64       386\n",
      "       macro avg       0.68      0.62      0.63       386\n",
      "    weighted avg       0.67      0.64      0.63       386\n",
      "\n"
     ]
    }
   ],
   "source": [
    "from sklearn.metrics import classification_report, f1_score\n",
    "\n",
    "print(classification_report(df.relation, df.predicted_label, labels=all_relations))"
   ]
  },
  {
   "cell_type": "code",
   "execution_count": 58,
   "id": "d940ff9d",
   "metadata": {},
   "outputs": [
    {
     "data": {
      "text/plain": [
       "0.6373056994818653"
      ]
     },
     "execution_count": 58,
     "metadata": {},
     "output_type": "execute_result"
    }
   ],
   "source": [
    "f1_score(df.relation, df.predicted_label, average='micro')"
   ]
  }
 ],
 "metadata": {
  "kernelspec": {
   "display_name": "ai_agents_experiments",
   "language": "python",
   "name": "python3"
  },
  "language_info": {
   "codemirror_mode": {
    "name": "ipython",
    "version": 3
   },
   "file_extension": ".py",
   "mimetype": "text/x-python",
   "name": "python",
   "nbconvert_exporter": "python",
   "pygments_lexer": "ipython3",
   "version": "3.13.3"
  }
 },
 "nbformat": 4,
 "nbformat_minor": 5
}
