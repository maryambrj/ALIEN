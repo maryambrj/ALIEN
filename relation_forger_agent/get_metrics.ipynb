{
 "cells": [
  {
   "cell_type": "code",
   "execution_count": 1,
   "id": "16056e32",
   "metadata": {},
   "outputs": [],
   "source": [
    "import pandas as pd\n",
    "from sklearn.metrics import classification_report, f1_score, accuracy_score"
   ]
  },
  {
   "cell_type": "code",
   "execution_count": 3,
   "id": "1f341820",
   "metadata": {},
   "outputs": [],
   "source": [
    "all_relations = ['undefined', 'product_or_service_of', 'shareholder_of', 'collaboration', 'subsidiary_of', 'client_of', 'competitor_of', 'acquired_by', 'traded_on', 'regulated_by', 'brand_of', 'merged_with']"
   ]
  },
  {
   "cell_type": "code",
   "execution_count": 6,
   "id": "c1d24ccd",
   "metadata": {},
   "outputs": [
    {
     "data": {
      "text/html": [
       "<div>\n",
       "<style scoped>\n",
       "    .dataframe tbody tr th:only-of-type {\n",
       "        vertical-align: middle;\n",
       "    }\n",
       "\n",
       "    .dataframe tbody tr th {\n",
       "        vertical-align: top;\n",
       "    }\n",
       "\n",
       "    .dataframe thead th {\n",
       "        text-align: right;\n",
       "    }\n",
       "</style>\n",
       "<table border=\"1\" class=\"dataframe\">\n",
       "  <thead>\n",
       "    <tr style=\"text-align: right;\">\n",
       "      <th></th>\n",
       "      <th>id</th>\n",
       "      <th>relation</th>\n",
       "      <th>entity_1</th>\n",
       "      <th>entity_2</th>\n",
       "      <th>sentence</th>\n",
       "      <th>predicted_relation</th>\n",
       "    </tr>\n",
       "  </thead>\n",
       "  <tbody>\n",
       "    <tr>\n",
       "      <th>0</th>\n",
       "      <td>E8294494</td>\n",
       "      <td>undefined</td>\n",
       "      <td>Winnie, Inc.</td>\n",
       "      <td>Android</td>\n",
       "      <td>The Winnie iPhone app was launched in June 201...</td>\n",
       "      <td>undefined</td>\n",
       "    </tr>\n",
       "    <tr>\n",
       "      <th>1</th>\n",
       "      <td>E8169451</td>\n",
       "      <td>product_or_service_of</td>\n",
       "      <td>Duplex</td>\n",
       "      <td>Marker International</td>\n",
       "      <td>Hannes Marker felt he could improve on the con...</td>\n",
       "      <td>product_or_service_of</td>\n",
       "    </tr>\n",
       "    <tr>\n",
       "      <th>2</th>\n",
       "      <td>E8256769</td>\n",
       "      <td>shareholder_of</td>\n",
       "      <td>Lion</td>\n",
       "      <td>Stone &amp; Wood Brewing Co.</td>\n",
       "      <td>In 2012 Cook , Rogers and Jurisich bought back...</td>\n",
       "      <td>shareholder_of</td>\n",
       "    </tr>\n",
       "    <tr>\n",
       "      <th>3</th>\n",
       "      <td>E8053281</td>\n",
       "      <td>collaboration</td>\n",
       "      <td>Bell Canada</td>\n",
       "      <td>Cellport Systems, Inc.</td>\n",
       "      <td>In 1994 a consortium of six cellular carriers ...</td>\n",
       "      <td>collaboration</td>\n",
       "    </tr>\n",
       "    <tr>\n",
       "      <th>4</th>\n",
       "      <td>E8114162</td>\n",
       "      <td>subsidiary_of</td>\n",
       "      <td>GETCO</td>\n",
       "      <td>Global Electronic Trading Company</td>\n",
       "      <td>The firm 's primary business is electronic mar...</td>\n",
       "      <td>merged_with</td>\n",
       "    </tr>\n",
       "  </tbody>\n",
       "</table>\n",
       "</div>"
      ],
      "text/plain": [
       "         id               relation      entity_1  \\\n",
       "0  E8294494              undefined  Winnie, Inc.   \n",
       "1  E8169451  product_or_service_of        Duplex   \n",
       "2  E8256769         shareholder_of          Lion   \n",
       "3  E8053281          collaboration   Bell Canada   \n",
       "4  E8114162          subsidiary_of         GETCO   \n",
       "\n",
       "                            entity_2  \\\n",
       "0                            Android   \n",
       "1               Marker International   \n",
       "2           Stone & Wood Brewing Co.   \n",
       "3             Cellport Systems, Inc.   \n",
       "4  Global Electronic Trading Company   \n",
       "\n",
       "                                            sentence     predicted_relation  \n",
       "0  The Winnie iPhone app was launched in June 201...              undefined  \n",
       "1  Hannes Marker felt he could improve on the con...  product_or_service_of  \n",
       "2  In 2012 Cook , Rogers and Jurisich bought back...         shareholder_of  \n",
       "3  In 1994 a consortium of six cellular carriers ...          collaboration  \n",
       "4  The firm 's primary business is electronic mar...            merged_with  "
      ]
     },
     "execution_count": 6,
     "metadata": {},
     "output_type": "execute_result"
    }
   ],
   "source": [
    "df.head()"
   ]
  },
  {
   "cell_type": "code",
   "execution_count": 38,
   "id": "a1e89baa",
   "metadata": {},
   "outputs": [],
   "source": [
    "df = pd.read_csv(\n",
    "    \"./../prediction_files/kuldeep/core_pos_neg_agent_using_gemini_flash_25_as_gen_classi_gpt_4o_selector_v2_model.csv\"\n",
    ")"
   ]
  },
  {
   "cell_type": "code",
   "execution_count": 41,
   "id": "5aa95f0c",
   "metadata": {},
   "outputs": [
    {
     "data": {
      "text/html": [
       "<div>\n",
       "<style scoped>\n",
       "    .dataframe tbody tr th:only-of-type {\n",
       "        vertical-align: middle;\n",
       "    }\n",
       "\n",
       "    .dataframe tbody tr th {\n",
       "        vertical-align: top;\n",
       "    }\n",
       "\n",
       "    .dataframe thead th {\n",
       "        text-align: right;\n",
       "    }\n",
       "</style>\n",
       "<table border=\"1\" class=\"dataframe\">\n",
       "  <thead>\n",
       "    <tr style=\"text-align: right;\">\n",
       "      <th></th>\n",
       "      <th>id</th>\n",
       "      <th>relation</th>\n",
       "      <th>entity_1</th>\n",
       "      <th>entity_2</th>\n",
       "      <th>sentence</th>\n",
       "      <th>predicted_label</th>\n",
       "    </tr>\n",
       "  </thead>\n",
       "  <tbody>\n",
       "    <tr>\n",
       "      <th>0</th>\n",
       "      <td>E8294494</td>\n",
       "      <td>undefined</td>\n",
       "      <td>Winnie, Inc.</td>\n",
       "      <td>Android</td>\n",
       "      <td>The Winnie iPhone app was launched in June 201...</td>\n",
       "      <td>undefined</td>\n",
       "    </tr>\n",
       "    <tr>\n",
       "      <th>1</th>\n",
       "      <td>E8169451</td>\n",
       "      <td>product_or_service_of</td>\n",
       "      <td>Duplex</td>\n",
       "      <td>Marker International</td>\n",
       "      <td>Hannes Marker felt he could improve on the con...</td>\n",
       "      <td>product_or_service_of</td>\n",
       "    </tr>\n",
       "    <tr>\n",
       "      <th>2</th>\n",
       "      <td>E8256769</td>\n",
       "      <td>shareholder_of</td>\n",
       "      <td>Lion</td>\n",
       "      <td>Stone &amp; Wood Brewing Co.</td>\n",
       "      <td>In 2012 Cook , Rogers and Jurisich bought back...</td>\n",
       "      <td>shareholder_of</td>\n",
       "    </tr>\n",
       "    <tr>\n",
       "      <th>3</th>\n",
       "      <td>E8053281</td>\n",
       "      <td>collaboration</td>\n",
       "      <td>Bell Canada</td>\n",
       "      <td>Cellport Systems, Inc.</td>\n",
       "      <td>In 1994 a consortium of six cellular carriers ...</td>\n",
       "      <td>client_of</td>\n",
       "    </tr>\n",
       "    <tr>\n",
       "      <th>4</th>\n",
       "      <td>E8114162</td>\n",
       "      <td>subsidiary_of</td>\n",
       "      <td>GETCO</td>\n",
       "      <td>Global Electronic Trading Company</td>\n",
       "      <td>The firm 's primary business is electronic mar...</td>\n",
       "      <td>undefined</td>\n",
       "    </tr>\n",
       "  </tbody>\n",
       "</table>\n",
       "</div>"
      ],
      "text/plain": [
       "         id               relation      entity_1  \\\n",
       "0  E8294494              undefined  Winnie, Inc.   \n",
       "1  E8169451  product_or_service_of        Duplex   \n",
       "2  E8256769         shareholder_of          Lion   \n",
       "3  E8053281          collaboration   Bell Canada   \n",
       "4  E8114162          subsidiary_of         GETCO   \n",
       "\n",
       "                            entity_2  \\\n",
       "0                            Android   \n",
       "1               Marker International   \n",
       "2           Stone & Wood Brewing Co.   \n",
       "3             Cellport Systems, Inc.   \n",
       "4  Global Electronic Trading Company   \n",
       "\n",
       "                                            sentence        predicted_label  \n",
       "0  The Winnie iPhone app was launched in June 201...              undefined  \n",
       "1  Hannes Marker felt he could improve on the con...  product_or_service_of  \n",
       "2  In 2012 Cook , Rogers and Jurisich bought back...         shareholder_of  \n",
       "3  In 1994 a consortium of six cellular carriers ...              client_of  \n",
       "4  The firm 's primary business is electronic mar...              undefined  "
      ]
     },
     "execution_count": 41,
     "metadata": {},
     "output_type": "execute_result"
    }
   ],
   "source": [
    "df.head()"
   ]
  },
  {
   "cell_type": "code",
   "execution_count": 44,
   "id": "5da94ac5",
   "metadata": {},
   "outputs": [
    {
     "name": "stdout",
     "output_type": "stream",
     "text": [
      "                       precision    recall  f1-score   support\n",
      "\n",
      "            undefined       0.53      0.64      0.58       111\n",
      "product_or_service_of       0.74      0.74      0.74       125\n",
      "       shareholder_of       0.85      0.79      0.82        52\n",
      "        collaboration       0.88      0.53      0.66       106\n",
      "        subsidiary_of       0.66      0.61      0.64        44\n",
      "            client_of       0.48      0.75      0.58        55\n",
      "        competitor_of       0.86      0.83      0.84        29\n",
      "          acquired_by       0.85      0.86      0.85        92\n",
      "            traded_on       1.00      1.00      1.00        36\n",
      "         regulated_by       0.92      0.92      0.92        13\n",
      "             brand_of       0.62      0.50      0.56        20\n",
      "          merged_with       0.83      0.83      0.83        18\n",
      "\n",
      "             accuracy                           0.72       701\n",
      "            macro avg       0.77      0.75      0.75       701\n",
      "         weighted avg       0.75      0.72      0.72       701\n",
      "\n"
     ]
    }
   ],
   "source": [
    "if 'predicted_relation' in df.columns:\n",
    "    print(classification_report(df.relation, df.predicted_relation, labels=all_relations))\n",
    "else:\n",
    "    print(classification_report(df.relation, df.predicted_label, labels=all_relations))"
   ]
  },
  {
   "cell_type": "code",
   "execution_count": 45,
   "id": "fae3e4af",
   "metadata": {},
   "outputs": [
    {
     "name": "stdout",
     "output_type": "stream",
     "text": [
      "F1 Macro Score : 0.7524808560866069\n",
      "F1 Micro Score : 0.7203994293865906\n",
      "F1 Accuracy Score : 0.7203994293865906\n"
     ]
    }
   ],
   "source": [
    "if 'predicted_relation' in df.columns:\n",
    "    print(f\"F1 Macro Score : {f1_score(df.relation, df.predicted_relation, average='macro')}\")\n",
    "    print(f\"F1 Micro Score : {f1_score(df.relation, df.predicted_relation, average='micro')}\")\n",
    "    print(f\"F1 Accuracy Score : {accuracy_score(df.relation, df.predicted_relation)}\")\n",
    "else:\n",
    "    print(f\"F1 Macro Score : {f1_score(df.relation, df.predicted_label, average='macro')}\")\n",
    "    print(f\"F1 Micro Score : {f1_score(df.relation, df.predicted_label, average='micro')}\")\n",
    "    print(f\"F1 Accuracy Score : {accuracy_score(df.relation, df.predicted_label)}\")"
   ]
  },
  {
   "cell_type": "code",
   "execution_count": null,
   "id": "09bd37d2",
   "metadata": {},
   "outputs": [],
   "source": []
  }
 ],
 "metadata": {
  "kernelspec": {
   "display_name": "ai_agents_experiments",
   "language": "python",
   "name": "python3"
  },
  "language_info": {
   "codemirror_mode": {
    "name": "ipython",
    "version": 3
   },
   "file_extension": ".py",
   "mimetype": "text/x-python",
   "name": "python",
   "nbconvert_exporter": "python",
   "pygments_lexer": "ipython3",
   "version": "3.13.2"
  }
 },
 "nbformat": 4,
 "nbformat_minor": 5
}
